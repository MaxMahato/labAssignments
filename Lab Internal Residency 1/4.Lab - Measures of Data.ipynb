{
 "cells": [
  {
   "cell_type": "markdown",
   "metadata": {},
   "source": [
    "## Lab Brief - Statistical Learning with Python"
   ]
  },
  {
   "cell_type": "markdown",
   "metadata": {},
   "source": [
    "### Part-1"
   ]
  },
  {
   "cell_type": "markdown",
   "metadata": {},
   "source": [
    "## Measures of Data"
   ]
  },
  {
   "cell_type": "markdown",
   "metadata": {},
   "source": [
    "Descriptive Statistcs are measures that summarize important features of data. Producing these descriptive statistics is a common first step to take after cleaning and preparing a dataset for further analysis. Examples are like calculating Mean or Median. In this lab, we will be looking into some of these functions and explore several new ones."
   ]
  },
  {
   "cell_type": "markdown",
   "metadata": {},
   "source": [
    "#### Measures of Central Tendency"
   ]
  },
  {
   "cell_type": "markdown",
   "metadata": {},
   "source": [
    "Whenever you measure things of the same kind, a fairly large number of such measurements will tend to cluster around the middle value. Such a value is called a measure of \"Central Tendency\". The other terms that are used synonymously are \"Measures of Location\", or \"Statistical Averages\". "
   ]
  },
  {
   "cell_type": "code",
   "execution_count": 1,
   "metadata": {},
   "outputs": [],
   "source": [
    "import numpy as np\n",
    "import pandas as pd\n",
    "import matplotlib.pyplot as plt\n",
    "\n",
    "mtcars = pd.read_csv('mtcars.csv')"
   ]
  },
  {
   "cell_type": "markdown",
   "metadata": {},
   "source": [
    "##### Using the mtcars dataset.\n",
    "\n",
    "For the below set of questions, we will be using the cars data from [Motor Trend Car Road Tests](http://stat.ethz.ch/R-manual/R-devel/library/datasets/html/mtcars.html)\n",
    "\n",
    "The data was extracted from the 1974 Motor Trend US magazine, and comprises fuel consumption and 10 aspects of automobile design and performance for 32 automobiles (1973–74 models). \n",
    "\n",
    "\n",
    "Details :\n",
    "    \n",
    "A data frame with 32 observations on 11 (numeric) variables.\n",
    "\n",
    "[, 1] \tmpg \tMiles/(US) gallon\n",
    "\n",
    "[, 2] \tcyl \tNumber of cylinders\n",
    "\n",
    "[, 3] \tdisp \tDisplacement (cu.in.)\n",
    "\n",
    "[, 4] \thp \tGross horsepower\n",
    "\n",
    "[, 5] \tdrat \tRear axle ratio\n",
    "\n",
    "[, 6] \twt \tWeight (1000 lbs)\n",
    "\n",
    "[, 7] \tqsec \t1/4 mile time\n",
    "\n",
    "[, 8] \tvs \tEngine (0 = V-shaped, 1 = straight)\n",
    "\n",
    "[, 9] \tam \tTransmission (0 = automatic, 1 = manual)\n",
    "\n",
    "[,10] \tgear \tNumber of forward gears\n",
    "\n",
    "[,11] \tcarb \tNumber of carburetors "
   ]
  },
  {
   "cell_type": "markdown",
   "metadata": {},
   "source": [
    "#### Explore the data - Setting the index"
   ]
  },
  {
   "cell_type": "code",
   "execution_count": 3,
   "metadata": {},
   "outputs": [
    {
     "data": {
      "text/html": [
       "<div>\n",
       "<style scoped>\n",
       "    .dataframe tbody tr th:only-of-type {\n",
       "        vertical-align: middle;\n",
       "    }\n",
       "\n",
       "    .dataframe tbody tr th {\n",
       "        vertical-align: top;\n",
       "    }\n",
       "\n",
       "    .dataframe thead th {\n",
       "        text-align: right;\n",
       "    }\n",
       "</style>\n",
       "<table border=\"1\" class=\"dataframe\">\n",
       "  <thead>\n",
       "    <tr style=\"text-align: right;\">\n",
       "      <th></th>\n",
       "      <th>name</th>\n",
       "      <th>mpg</th>\n",
       "      <th>cyl</th>\n",
       "      <th>disp</th>\n",
       "      <th>hp</th>\n",
       "      <th>drat</th>\n",
       "      <th>wt</th>\n",
       "      <th>qsec</th>\n",
       "      <th>vs</th>\n",
       "      <th>am</th>\n",
       "      <th>gear</th>\n",
       "      <th>carb</th>\n",
       "    </tr>\n",
       "    <tr>\n",
       "      <th>name</th>\n",
       "      <th></th>\n",
       "      <th></th>\n",
       "      <th></th>\n",
       "      <th></th>\n",
       "      <th></th>\n",
       "      <th></th>\n",
       "      <th></th>\n",
       "      <th></th>\n",
       "      <th></th>\n",
       "      <th></th>\n",
       "      <th></th>\n",
       "      <th></th>\n",
       "    </tr>\n",
       "  </thead>\n",
       "  <tbody>\n",
       "    <tr>\n",
       "      <th>Mazda RX4</th>\n",
       "      <td>Mazda RX4</td>\n",
       "      <td>21.0</td>\n",
       "      <td>6</td>\n",
       "      <td>160.0</td>\n",
       "      <td>110</td>\n",
       "      <td>3.90</td>\n",
       "      <td>2.620</td>\n",
       "      <td>16.46</td>\n",
       "      <td>0</td>\n",
       "      <td>1</td>\n",
       "      <td>4</td>\n",
       "      <td>4</td>\n",
       "    </tr>\n",
       "    <tr>\n",
       "      <th>Mazda RX4 Wag</th>\n",
       "      <td>Mazda RX4 Wag</td>\n",
       "      <td>21.0</td>\n",
       "      <td>6</td>\n",
       "      <td>160.0</td>\n",
       "      <td>110</td>\n",
       "      <td>3.90</td>\n",
       "      <td>2.875</td>\n",
       "      <td>17.02</td>\n",
       "      <td>0</td>\n",
       "      <td>1</td>\n",
       "      <td>4</td>\n",
       "      <td>4</td>\n",
       "    </tr>\n",
       "    <tr>\n",
       "      <th>Datsun 710</th>\n",
       "      <td>Datsun 710</td>\n",
       "      <td>22.8</td>\n",
       "      <td>4</td>\n",
       "      <td>108.0</td>\n",
       "      <td>93</td>\n",
       "      <td>3.85</td>\n",
       "      <td>2.320</td>\n",
       "      <td>18.61</td>\n",
       "      <td>1</td>\n",
       "      <td>1</td>\n",
       "      <td>4</td>\n",
       "      <td>1</td>\n",
       "    </tr>\n",
       "    <tr>\n",
       "      <th>Hornet 4 Drive</th>\n",
       "      <td>Hornet 4 Drive</td>\n",
       "      <td>21.4</td>\n",
       "      <td>6</td>\n",
       "      <td>258.0</td>\n",
       "      <td>110</td>\n",
       "      <td>3.08</td>\n",
       "      <td>3.215</td>\n",
       "      <td>19.44</td>\n",
       "      <td>1</td>\n",
       "      <td>0</td>\n",
       "      <td>3</td>\n",
       "      <td>1</td>\n",
       "    </tr>\n",
       "    <tr>\n",
       "      <th>Hornet Sportabout</th>\n",
       "      <td>Hornet Sportabout</td>\n",
       "      <td>18.7</td>\n",
       "      <td>8</td>\n",
       "      <td>360.0</td>\n",
       "      <td>175</td>\n",
       "      <td>3.15</td>\n",
       "      <td>3.440</td>\n",
       "      <td>17.02</td>\n",
       "      <td>0</td>\n",
       "      <td>0</td>\n",
       "      <td>3</td>\n",
       "      <td>2</td>\n",
       "    </tr>\n",
       "  </tbody>\n",
       "</table>\n",
       "</div>"
      ],
      "text/plain": [
       "                                name   mpg  cyl   disp   hp  drat     wt  \\\n",
       "name                                                                       \n",
       "Mazda RX4                  Mazda RX4  21.0    6  160.0  110  3.90  2.620   \n",
       "Mazda RX4 Wag          Mazda RX4 Wag  21.0    6  160.0  110  3.90  2.875   \n",
       "Datsun 710                Datsun 710  22.8    4  108.0   93  3.85  2.320   \n",
       "Hornet 4 Drive        Hornet 4 Drive  21.4    6  258.0  110  3.08  3.215   \n",
       "Hornet Sportabout  Hornet Sportabout  18.7    8  360.0  175  3.15  3.440   \n",
       "\n",
       "                    qsec  vs  am  gear  carb  \n",
       "name                                          \n",
       "Mazda RX4          16.46   0   1     4     4  \n",
       "Mazda RX4 Wag      17.02   0   1     4     4  \n",
       "Datsun 710         18.61   1   1     4     1  \n",
       "Hornet 4 Drive     19.44   1   0     3     1  \n",
       "Hornet Sportabout  17.02   0   0     3     2  "
      ]
     },
     "execution_count": 3,
     "metadata": {},
     "output_type": "execute_result"
    }
   ],
   "source": [
    "mtcars.index = mtcars[\"name\"]\n",
    "mtcars.head()\n",
    "# mtcars.mean() #By default this will give the mean of each column"
   ]
  },
  {
   "cell_type": "markdown",
   "metadata": {},
   "source": [
    "### Question 1\n",
    "\n",
    "What is the first car name given in mtcars?\n",
    "\n",
    "** Make use of index which has been set previously **\n",
    "\n",
    "**Hint**: Use .loc function\n"
   ]
  },
  {
   "cell_type": "code",
   "execution_count": 30,
   "metadata": {
    "scrolled": true
   },
   "outputs": [
    {
     "data": {
      "text/plain": [
       "name\n",
       "Mazda RX4    Mazda RX4\n",
       "Name: name, dtype: object"
      ]
     },
     "execution_count": 30,
     "metadata": {},
     "output_type": "execute_result"
    }
   ],
   "source": [
    "mtcars.head(1)[\"name\"]"
   ]
  },
  {
   "cell_type": "markdown",
   "metadata": {},
   "source": [
    "### Question 2\n",
    "What is the highest difference between the hp and cyl?\n",
    "\n",
    "**Hint:** You can use **max()** function to find the difference"
   ]
  },
  {
   "cell_type": "code",
   "execution_count": 33,
   "metadata": {},
   "outputs": [
    {
     "data": {
      "text/plain": [
       "327"
      ]
     },
     "execution_count": 33,
     "metadata": {},
     "output_type": "execute_result"
    }
   ],
   "source": [
    "(mtcars['hp'] - mtcars['cyl']).max()"
   ]
  },
  {
   "cell_type": "markdown",
   "metadata": {},
   "source": [
    "### Question 3\n",
    "What are the cars having highest weight(wt) and lowest weight(wt)?\n",
    "\n",
    "**Hint:** Use idxmax() and idxmin() to locate the row\n",
    "\n",
    "Use **.iloc** function to print the  row\n",
    "\n",
    "**Note:** Both idxmax and idxmin belong to pandas"
   ]
  },
  {
   "cell_type": "code",
   "execution_count": 58,
   "metadata": {},
   "outputs": [
    {
     "name": "stdout",
     "output_type": "stream",
     "text": [
      "Highest Weight: Lincoln Continental Weight: 5.424\n",
      "Lowest Weight: Lotus Europa Weight: 1.513\n"
     ]
    }
   ],
   "source": [
    "max_row = np.argmax(mtcars['wt'].values)\n",
    "print(\"Highest Weight: \"+str(mtcars['name'].values[max_row])+\" Weight: \"+str(mtcars['wt'].values[max_row]))\n",
    "min_row = np.argmin(mtcars['wt'].values)\n",
    "print(\"Lowest Weight: \"+str(mtcars['name'].values[min_row])+\" Weight: \"+str(mtcars['wt'].values[min_row]))"
   ]
  },
  {
   "cell_type": "code",
   "execution_count": 37,
   "metadata": {},
   "outputs": [
    {
     "name": "stdout",
     "output_type": "stream",
     "text": [
      "Lowest Weight:1.513\n"
     ]
    }
   ],
   "source": [
    "print(\"Lowest Weight:\"+ str(mtcars['wt'].min()))"
   ]
  },
  {
   "cell_type": "markdown",
   "metadata": {},
   "source": [
    "### Question 4\n",
    "\n",
    "Find the mean of each row and each column in the given dataset.\n",
    "\n",
    "**Hint:** Use .mean() function. To operate on rows use **axis=0**, on columns use **axis=1**"
   ]
  },
  {
   "cell_type": "code",
   "execution_count": 61,
   "metadata": {},
   "outputs": [
    {
     "name": "stdout",
     "output_type": "stream",
     "text": [
      "Row Mean: \n"
     ]
    },
    {
     "data": {
      "text/plain": [
       "name\n",
       "Mazda RX4              29.907273\n",
       "Mazda RX4 Wag          29.981364\n",
       "Datsun 710             23.598182\n",
       "Hornet 4 Drive         38.739545\n",
       "Hornet Sportabout      53.664545\n",
       "Valiant                35.049091\n",
       "Duster 360             59.720000\n",
       "Merc 240D              24.634545\n",
       "Merc 230               27.233636\n",
       "Merc 280               31.860000\n",
       "Merc 280C              31.787273\n",
       "Merc 450SE             46.430909\n",
       "Merc 450SL             46.500000\n",
       "Merc 450SLC            46.350000\n",
       "Cadillac Fleetwood     66.232727\n",
       "Lincoln Continental    66.058545\n",
       "Chrysler Imperial      65.972273\n",
       "Fiat 128               19.440909\n",
       "Honda Civic            17.742273\n",
       "Toyota Corolla         18.814091\n",
       "Toyota Corona          24.888636\n",
       "Dodge Challenger       47.240909\n",
       "AMC Javelin            46.007727\n",
       "Camaro Z28             58.752727\n",
       "Pontiac Firebird       57.379545\n",
       "Fiat X1-9              18.928636\n",
       "Porsche 914-2          24.779091\n",
       "Lotus Europa           24.880273\n",
       "Ford Pantera L         60.971818\n",
       "Ferrari Dino           34.508182\n",
       "Maserati Bora          63.155455\n",
       "Volvo 142E             26.262727\n",
       "dtype: float64"
      ]
     },
     "execution_count": 61,
     "metadata": {},
     "output_type": "execute_result"
    }
   ],
   "source": [
    "print(\"Row Mean: \")\n",
    "mtcars.mean(axis=1)"
   ]
  },
  {
   "cell_type": "code",
   "execution_count": 62,
   "metadata": {},
   "outputs": [
    {
     "name": "stdout",
     "output_type": "stream",
     "text": [
      "Column Mean: \n"
     ]
    },
    {
     "data": {
      "text/plain": [
       "mpg      20.090625\n",
       "cyl       6.187500\n",
       "disp    230.721875\n",
       "hp      146.687500\n",
       "drat      3.596563\n",
       "wt        3.217250\n",
       "qsec     17.848750\n",
       "vs        0.437500\n",
       "am        0.406250\n",
       "gear      3.687500\n",
       "carb      2.812500\n",
       "dtype: float64"
      ]
     },
     "execution_count": 62,
     "metadata": {},
     "output_type": "execute_result"
    }
   ],
   "source": [
    "print(\"Column Mean: \")\n",
    "mtcars.mean(axis=0)"
   ]
  },
  {
   "cell_type": "markdown",
   "metadata": {},
   "source": [
    "### Question 5\n",
    "\n",
    "Plot mpg values of mtcards dataframe using matplotlib.\n",
    "\n",
    "**Hint: Use plt.plot function**"
   ]
  },
  {
   "cell_type": "code",
   "execution_count": 63,
   "metadata": {},
   "outputs": [
    {
     "data": {
      "text/plain": [
       "[<matplotlib.lines.Line2D at 0xaaacff6c>]"
      ]
     },
     "execution_count": 63,
     "metadata": {},
     "output_type": "execute_result"
    },
    {
     "data": {
      "image/png": "[encoded data removed]",
      "text/plain": [
       "<Figure size 432x288 with 1 Axes>"
      ]
     },
     "metadata": {},
     "output_type": "display_data"
    }
   ],
   "source": [
    "plt.plot(mtcars['mpg'])"
   ]
  },
  {
   "cell_type": "markdown",
   "metadata": {},
   "source": [
    "## Part 2"
   ]
  },
  {
   "cell_type": "markdown",
   "metadata": {},
   "source": [
    "## Measures of Dispersion"
   ]
  },
  {
   "cell_type": "markdown",
   "metadata": {},
   "source": [
    "Measures of Dispersion (Spread) are statistics that describe how data varies. Measure of dispersion gives us the sense of how much the data tends to diverge from the central tendency."
   ]
  },
  {
   "cell_type": "markdown",
   "metadata": {},
   "source": [
    "### Question 6\n",
    "\n",
    "What the range of `mpg` in the given dataset?\n",
    "\n",
    "**Hint:** Range = max-min"
   ]
  },
  {
   "cell_type": "code",
   "execution_count": 66,
   "metadata": {},
   "outputs": [
    {
     "name": "stdout",
     "output_type": "stream",
     "text": [
      "23.5\n"
     ]
    }
   ],
   "source": [
    "mpgRange = mtcars['mpg'].max() - mtcars['mpg'].min()\n",
    "print(mpgRange)"
   ]
  },
  {
   "cell_type": "markdown",
   "metadata": {},
   "source": [
    "### Question 7\n",
    "\n",
    "Calculate the 25th quantile (lower quantile)for `mpg` in the given dataset.\n",
    "\n",
    "**Hint:** Use **.quantile()**"
   ]
  },
  {
   "cell_type": "code",
   "execution_count": 67,
   "metadata": {},
   "outputs": [
    {
     "data": {
      "text/plain": [
       "15.425"
      ]
     },
     "execution_count": 67,
     "metadata": {},
     "output_type": "execute_result"
    }
   ],
   "source": [
    "mtcars.mpg.quantile(.25)"
   ]
  },
  {
   "cell_type": "markdown",
   "metadata": {},
   "source": [
    "### Question 8\n",
    "\n",
    "Calculate the Inter-Quartile Range(IQR) for `mpg` in the given dataset."
   ]
  },
  {
   "cell_type": "markdown",
   "metadata": {},
   "source": [
    "Interquartile range (IQR) is another common measure of spread. IQR is the distance between the 3rd quartile and the 1st quartile.\n",
    "\n",
    "**Hint:** IQR = Q3 - Q1"
   ]
  },
  {
   "cell_type": "code",
   "execution_count": 68,
   "metadata": {},
   "outputs": [
    {
     "data": {
      "text/plain": [
       "7.375"
      ]
     },
     "execution_count": 68,
     "metadata": {},
     "output_type": "execute_result"
    }
   ],
   "source": [
    "mtcars.mpg.quantile(.75) - mtcars.mpg.quantile(.25)"
   ]
  },
  {
   "cell_type": "markdown",
   "metadata": {},
   "source": [
    "### Question 9\n",
    "\n",
    "Calculate the Variance, Standard Deviation and Median Absolute Deviation for `mpg`."
   ]
  },
  {
   "cell_type": "markdown",
   "metadata": {},
   "source": [
    "Variance and Standard Deviation are two other common measure of dispersion.\n",
    "\n",
    "**Hint:** Use .var() and .std()"
   ]
  },
  {
   "cell_type": "markdown",
   "metadata": {},
   "source": [
    "**Hint:** Median Absolute Deviation - alternative measure of spread based on the median. It is the median of the absolute value of the deviations from the median. "
   ]
  },
  {
   "cell_type": "code",
   "execution_count": 70,
   "metadata": {},
   "outputs": [
    {
     "name": "stdout",
     "output_type": "stream",
     "text": [
      "Variance:36.32410282258064\n"
     ]
    }
   ],
   "source": [
    "print(\"Variance:\"+str(mtcars.mpg.var()))"
   ]
  },
  {
   "cell_type": "code",
   "execution_count": 72,
   "metadata": {},
   "outputs": [
    {
     "name": "stdout",
     "output_type": "stream",
     "text": [
      "Standard Deviation:6.026948052089104\n",
      "Mean Absolute Deviation:4.7144531249999995\n"
     ]
    }
   ],
   "source": [
    "print(\"Standard Deviation:\"+str(mtcars.mpg.std()))\n",
    "print(\"Mean Absolute Deviation:\"+str(mtcars.mpg.mad()))"
   ]
  },
  {
   "cell_type": "markdown",
   "metadata": {},
   "source": [
    "## Part 3"
   ]
  },
  {
   "cell_type": "markdown",
   "metadata": {},
   "source": [
    "## Probability Distributions"
   ]
  },
  {
   "cell_type": "markdown",
   "metadata": {},
   "source": [
    "The probability distribution describes how a random variable is distributed. It tells us which values a variable is most likely to take on and which values are less likely to take on. "
   ]
  },
  {
   "cell_type": "markdown",
   "metadata": {},
   "source": [
    "Each value in the given range is equally likely to occur. "
   ]
  },
  {
   "cell_type": "code",
   "execution_count": 29,
   "metadata": {},
   "outputs": [],
   "source": [
    "import scipy.stats as stats # Many functions for probability distributions in python are in scipy.stats"
   ]
  },
  {
   "cell_type": "markdown",
   "metadata": {},
   "source": [
    "### Question 10\n",
    "\n",
    "Generate 1000 datapoints with standard normal distribution with mean 0 and standard deviation 1. "
   ]
  },
  {
   "cell_type": "markdown",
   "metadata": {},
   "source": [
    "#### Normal Distribution"
   ]
  },
  {
   "cell_type": "markdown",
   "metadata": {},
   "source": [
    "The normal or Gaussian Distribution is a continuos probability distribution given by a symmetric bell shaped curve. It is defined its center(mean) and spread(std)."
   ]
  },
  {
   "cell_type": "markdown",
   "metadata": {},
   "source": [
    "The bulk of the observations generated from a normal distribution lie near the mean which lies at the center. About 68% of the data lies within 1 std, 95% lies within 2 stds and 99.7% lies within 3 stds.\n",
    "\n",
    "**Hint:** You can use **np.random.normal()** function to generate normal distribution"
   ]
  },
  {
   "cell_type": "code",
   "execution_count": 80,
   "metadata": {},
   "outputs": [
    {
     "name": "stdout",
     "output_type": "stream",
     "text": [
      "[ 8.17883652e-01  1.50448484e+00  1.20685269e+00  7.99256166e-01\n",
      "  1.22798844e+00 -7.70835900e-01  9.39030325e-01 -2.55183488e-01\n",
      " -1.37066902e+00 -6.58107619e-01 -6.00704031e-01  1.11005819e+00\n",
      " -2.45762858e+00  4.16167829e-02 -7.13711371e-01  1.10470668e+00\n",
      "  4.21676058e-01  2.09592250e+00 -8.78465036e-01  1.31032617e+00\n",
      "  6.17436436e-01 -1.08319968e-02  1.54537425e+00 -4.44608135e-01\n",
      "  1.66557615e+00  4.39004444e-01 -9.61926540e-01 -6.38648145e-01\n",
      " -1.16441396e-01  1.31522524e+00 -9.17586565e-02  3.44889928e-01\n",
      "  1.82448473e+00 -2.43701722e-01  7.53344881e-01  2.36929466e-01\n",
      "  1.01301993e+00 -2.15275840e+00  1.93960224e+00  1.03385169e+00\n",
      " -8.88901255e-01 -2.01759765e+00  1.71726480e-01  4.95744653e-01\n",
      " -9.44764537e-01 -9.15049924e-01  1.59079639e+00 -5.33385994e-01\n",
      " -1.67498251e+00 -2.43025360e-01 -2.19888229e-01  1.13223733e+00\n",
      " -3.91106291e-02 -1.82112412e-01 -2.16479635e+00  6.18424191e-01\n",
      " -2.34658570e+00  1.87193664e+00 -5.36297655e-01  5.43206083e-01\n",
      "  2.84346910e+00  9.41088723e-01 -8.49214222e-01 -7.71234048e-01\n",
      "  8.52816571e-01  9.00957264e-01  7.56222749e-01 -1.48488792e+00\n",
      " -8.80094147e-01 -6.82257204e-02 -6.93209423e-01  1.18475690e+00\n",
      "  6.45599836e-01  1.18071984e+00  5.49795760e-01 -1.61226104e-01\n",
      " -3.36161260e-01 -1.60198408e-01 -6.73118852e-01 -4.69995308e-01\n",
      " -8.95670383e-01  1.43590848e-01 -6.28800577e-01 -1.69511335e+00\n",
      "  2.40908598e-01  6.87067097e-01  1.38459335e+00 -2.96626479e-01\n",
      " -1.59722574e+00  2.14831796e-01 -1.18654315e+00 -1.84512317e-01\n",
      "  1.34789031e+00 -4.99660397e-01 -1.36610241e+00  9.31475590e-01\n",
      "  1.72667886e-01  4.46074194e-01 -1.25479273e+00  7.57779797e-01\n",
      " -7.66489874e-01  6.34422285e-01 -1.24418370e+00 -1.86576724e-01\n",
      "  1.99537105e+00 -3.34361274e-01  2.33335827e-01 -8.37633184e-01\n",
      "  4.50970589e-01  7.61128733e-01 -3.09286362e-01 -5.55619403e-02\n",
      "  1.32239865e+00 -1.25364882e+00 -3.78766815e-01  9.19883875e-01\n",
      " -1.12275614e+00 -3.39145777e-01 -7.47447026e-01 -4.74906262e-01\n",
      " -2.57353239e-01  1.14387511e+00  4.64744138e-01  1.51705823e+00\n",
      "  9.74010275e-01  1.33767210e+00  5.54052027e-01  4.65430357e-02\n",
      " -1.21223342e+00  1.65423973e+00 -3.30130557e-01 -1.17726554e+00\n",
      " -7.18902315e-01 -1.00909927e+00  1.02816787e+00  5.56978960e-01\n",
      "  1.74536575e-01 -1.25807937e+00  3.07928132e-01  6.86434809e-01\n",
      " -1.91959534e+00  5.60442390e-01 -6.19801437e-01  1.63813196e+00\n",
      "  1.10270950e+00 -1.41662832e+00  6.21049968e-02 -2.49305585e-01\n",
      "  1.37005643e+00  1.56707914e-01  1.53862192e+00 -2.42042358e-01\n",
      " -9.28870726e-01  7.59126516e-01  1.75420327e+00 -2.39693365e-01\n",
      "  1.48920249e-01 -1.71796700e-01 -6.78218629e-01 -2.45090386e-01\n",
      "  8.89890383e-01  6.63649830e-01  1.98649731e-01 -3.10807151e-01\n",
      " -1.21132321e-02 -4.33253778e-01  1.46297965e+00 -8.94881777e-01\n",
      " -3.64565935e-01  2.72813442e+00 -4.45535958e-01 -8.25641234e-01\n",
      "  2.26068002e-01 -1.24611537e+00 -3.75840330e-01 -1.28774806e-01\n",
      "  7.38591408e-01  2.13196827e-01  4.03403690e-01  8.76314013e-01\n",
      "  4.44954511e-01  2.71206111e+00  8.80102216e-01 -1.84509397e-01\n",
      " -9.23924746e-01  5.44576417e-01  4.70239886e-02  2.17958841e-01\n",
      " -7.02305690e-01  6.18749239e-01  7.86315131e-01  6.45040270e-01\n",
      " -1.56162248e+00 -4.62523391e-01 -6.91167003e-01 -4.73042385e-01\n",
      " -1.13526517e+00  2.50436205e-02  1.12413527e+00  7.16865965e-01\n",
      " -1.04798646e+00 -4.55155733e-01 -4.87282988e-01  1.07509945e+00\n",
      "  2.66935904e-01 -1.11954398e+00 -1.04208170e+00 -3.68708881e-01\n",
      " -1.14333153e+00 -8.04034822e-01 -1.34613957e+00 -4.74315677e-01\n",
      " -4.62255480e-01  9.36956191e-01  2.81143492e-01 -1.22543518e+00\n",
      " -7.27059230e-01 -4.78582308e-01 -1.84899351e+00 -2.62623757e+00\n",
      " -1.00392075e+00  2.12822599e+00  2.30258205e-01 -1.15177728e+00\n",
      " -9.21723522e-04 -5.85844296e-01  1.15345736e+00 -6.80427534e-01\n",
      " -1.90148887e-01  1.36285244e+00 -8.38871967e-01 -1.30468130e-01\n",
      "  1.21441136e+00  7.93417491e-01  5.09845121e-02 -9.22760308e-01\n",
      " -9.53970749e-01  1.23773406e+00  1.81769908e+00 -2.04111164e+00\n",
      " -1.41891389e+00 -5.67160140e-01 -1.85945869e+00 -5.55792926e-01\n",
      "  2.08028220e+00  1.64688643e-01 -6.79881283e-01  8.46311649e-01\n",
      "  7.26925686e-01 -8.89400967e-01 -3.07256775e-01  4.97352027e-01\n",
      " -3.00916004e-01  2.73938411e+00 -5.98014205e-01 -5.02042503e-01\n",
      "  1.10314900e+00 -6.49914444e-01  7.38393017e-01  8.96674250e-01\n",
      "  1.05543581e+00  2.20497279e+00 -8.68525753e-02  1.07217844e+00\n",
      "  6.48388254e-01  1.41558660e+00 -1.17309153e+00 -5.03765403e-01\n",
      "  6.66607364e-01  1.14224618e+00 -7.08393383e-01  3.91982181e-01\n",
      " -2.76846836e-02 -9.45379013e-01 -9.05448504e-01 -3.55756313e-01\n",
      " -2.90003597e-01  1.08730315e+00 -1.64192163e+00  3.81024821e-01\n",
      " -2.17832487e-01 -4.93427272e-01  2.34552412e+00  1.28539748e-01\n",
      " -6.80777867e-01 -2.31415680e-01  9.62124304e-01 -1.63778500e+00\n",
      "  1.24995288e+00 -2.68230947e-01 -5.79226381e-01  1.90288263e-01\n",
      " -1.70808422e-01  2.60916266e-02  1.80962001e-01  3.64627637e-01\n",
      " -5.02742807e-01 -6.70482500e-02 -3.21977529e-01  1.71580829e-01\n",
      "  5.61311693e-01  1.14193702e+00 -1.73091809e+00  3.68787693e-03\n",
      " -1.53630252e-01 -1.14834170e+00  2.46647648e-01 -6.18829561e-01\n",
      "  4.82540682e-01  1.09841223e+00 -3.10000658e-01 -1.83037975e+00\n",
      " -5.13811377e-01  1.71212746e+00  2.49043461e+00  8.44427923e-01\n",
      " -7.00544210e-01 -5.28547662e-01  1.45267993e+00  4.46768326e-01\n",
      " -4.69070603e-01 -2.79324396e-01  4.47184639e-01 -1.57178198e+00\n",
      " -8.60850053e-01 -3.95466225e-02  1.62647403e+00  1.78260797e+00\n",
      "  3.53671116e-01 -7.36095331e-01  1.32303302e-01  1.35969642e+00\n",
      " -8.41344374e-01 -5.16259678e-01  1.59727277e-01 -1.53018967e+00\n",
      "  6.22819016e-01 -8.18174644e-01 -1.61007655e+00  1.58604772e+00\n",
      "  1.42080161e+00 -1.71292428e-01 -3.90373156e-01  2.38220364e-01\n",
      "  6.48221044e-01  8.66325138e-01 -7.17549271e-02  4.27081518e-01\n",
      " -6.53418026e-02  6.70634538e-01 -4.28519639e-01  3.29470777e-01\n",
      " -2.23982086e-01  3.03772305e-01  1.07584229e+00 -1.08351983e+00\n",
      " -2.23993595e-01 -2.47498276e-01 -8.81890264e-01 -2.55342437e-01\n",
      " -1.28171597e+00  9.13137840e-01 -7.24790978e-01  2.59781537e+00\n",
      " -4.43514191e-01 -8.37141426e-01  1.21077525e+00 -6.87031257e-01\n",
      " -1.71266004e-01 -1.72051276e+00 -2.87278448e-01 -4.54155036e-01\n",
      "  7.52596698e-01 -2.83295560e-01  1.72971386e-01  1.49619311e+00\n",
      "  9.57019299e-01 -1.86494048e+00  3.17904688e-02  1.29840913e+00\n",
      " -1.22987077e+00 -7.77957015e-01  6.89382026e-01 -1.34010675e+00\n",
      "  7.12378561e-02 -1.03907180e+00  7.59174120e-01 -1.07704101e+00\n",
      "  8.92832101e-01  4.24923196e-01  1.03141347e+00 -8.42974298e-01\n",
      " -1.31912873e+00  1.31643435e+00 -1.06835064e+00  1.02853804e+00\n",
      "  1.62229485e+00 -1.81692706e+00  2.46056445e-01 -4.93266318e-01\n",
      "  1.65906389e+00 -2.10689076e+00 -1.69480095e+00  6.31494454e-01\n",
      "  4.46942242e-01  4.53558915e-01  5.23163215e-01  2.98108696e-02\n",
      "  8.86536140e-01 -6.66963188e-01  8.93487747e-01 -3.95272761e-01\n",
      " -8.05275254e-01 -2.18522886e+00 -1.55074836e-01  1.30443176e-01\n",
      " -4.08392741e-01  9.74308266e-01  4.50196987e-01  4.06999997e-01\n",
      "  3.99156391e-01 -3.76654806e-01  7.68639467e-01 -5.88807055e-01\n",
      "  1.37149203e+00 -7.94512283e-01  7.78211752e-01  6.46789034e-01\n",
      "  1.73197483e-01 -4.16518050e-01 -7.65727783e-01 -3.13053683e+00\n",
      "  1.24639770e+00 -5.17334401e-01  8.87538122e-01 -1.17240822e+00\n",
      " -9.96159400e-01  3.60234625e-01  1.02309474e+00  3.93632457e-01\n",
      " -2.10897371e+00 -1.51616519e+00 -1.56442762e-01  2.72187478e+00\n",
      " -1.52969105e+00 -3.70620606e-01  1.08803338e+00  3.33517742e+00\n",
      "  3.90254420e-01  7.40923069e-01 -1.99709026e+00 -1.21371393e+00\n",
      " -8.56172947e-02  1.78323724e+00  4.50185723e-02  1.22902679e+00\n",
      " -1.90422046e-01 -7.82599477e-01  3.11479262e-01 -1.60799165e-01\n",
      "  1.22986132e+00 -6.58583435e-01  1.67069772e+00  1.69413928e+00\n",
      "  9.63653782e-01 -1.95310291e-01 -1.39410636e+00  1.82340387e+00\n",
      " -1.07324226e+00 -9.18510537e-01  9.64729619e-01 -1.58500960e-01\n",
      " -1.81295000e-01 -3.68691900e-01 -7.56949872e-01 -2.58173981e-01\n",
      "  4.61522201e-01 -3.56830110e-01 -3.99467754e-01 -4.36087890e-01\n",
      " -1.42924889e+00 -8.27302115e-01  3.22575988e-01  4.75780453e-01\n",
      "  7.98816274e-01  6.05299610e-01  5.65151440e-01  6.74146993e-01\n",
      " -1.18577139e+00  1.29468448e+00  2.74256403e-01 -8.66217510e-02\n",
      " -2.87178138e-01  1.92426579e+00 -1.02948876e+00 -1.02302058e-01\n",
      "  5.08382655e-02 -4.74090473e-01 -2.05083706e-01  1.09876134e-01\n",
      "  8.75027404e-01  4.67317102e-01 -2.26670755e-01 -1.94930899e-01\n",
      " -1.75352510e+00 -7.93839290e-01  1.38103014e+00  6.00285098e-01\n",
      "  6.14826517e-01 -3.45289945e-01 -5.48415650e-01 -7.57271387e-01\n",
      " -2.55268266e+00  9.93488984e-01  1.20711814e+00  1.14791329e+00\n",
      "  4.26533397e-01  1.36983475e+00 -3.69553920e-01 -1.50073598e+00\n",
      " -5.04365042e-01  4.94677079e-02  9.74170707e-01  3.11301192e-03\n",
      " -1.36888911e+00 -6.63465507e-01  7.84216303e-01 -1.42403427e-01\n",
      " -2.09323106e+00 -1.25652491e+00 -3.03020401e-01 -1.38533065e+00\n",
      " -6.05865272e-01  1.47557003e+00  1.52131996e+00  7.05577750e-02\n",
      "  1.10555143e+00  9.11449923e-01  6.03410737e-01  2.14189105e-01\n",
      "  1.60988016e+00  4.61840487e-01 -1.82016378e+00 -2.01221647e-01\n",
      "  7.30210398e-01  6.30038437e-01  8.62156878e-01  9.81231209e-01\n",
      "  1.68063760e+00  1.38537325e+00 -1.46160400e+00 -9.77484419e-02\n",
      "  4.08037231e-01  1.95758447e+00  1.09274023e+00 -2.18659464e-01\n",
      " -1.55396365e+00 -4.26700533e-02 -8.43158962e-01 -9.13565179e-02\n",
      " -8.82006789e-01 -1.02754041e+00  1.82873024e+00 -7.90323202e-01\n",
      "  1.40622409e-01  7.24187280e-01  7.27690046e-01  1.21887458e+00\n",
      " -1.27523606e+00 -8.32782561e-01  1.72638670e+00  1.83578632e+00\n",
      " -8.25050633e-01  3.36016482e-01 -7.76495854e-01 -9.74964571e-01\n",
      "  8.62152531e-01  6.27709249e-02 -3.96841536e-01  6.32252802e-01\n",
      " -2.83363677e-01  3.78919575e-01  1.35389281e-01 -1.02238755e+00\n",
      "  3.70820095e-01 -9.49095932e-02  5.91502807e-02 -1.81214175e-01\n",
      " -6.53029997e-01 -1.54528070e+00  1.23004120e-01  1.42250532e+00\n",
      " -3.36425818e-02  2.25292066e+00 -1.91414208e+00  7.28780618e-01\n",
      "  1.58332505e+00  3.03907723e-01  2.08645278e+00 -4.65897971e-01\n",
      " -2.35823597e-01  1.01482134e-01 -8.07361546e-02 -1.20066632e+00\n",
      "  1.42758757e+00  1.04734528e+00  8.36715093e-01  4.58921436e-01\n",
      " -4.84568524e-03  7.12179378e-01  1.09045732e+00  1.05152757e+00\n",
      "  1.60592390e+00  1.16330525e+00  1.27601929e+00  1.20702589e+00\n",
      "  1.33085587e+00 -1.31333950e+00 -1.04829343e+00 -7.62385165e-01\n",
      " -5.05382312e-01  4.21941661e-01 -3.72695995e-01 -1.79892998e-01\n",
      " -1.07651628e+00 -1.50431671e+00 -4.33194226e-01 -4.32354685e-01\n",
      " -2.75323632e-01 -2.50768782e-01 -2.18767269e-01 -4.67491387e-01\n",
      " -6.04837168e-01  4.86320408e-01  1.51165433e-01  1.00346260e+00\n",
      "  2.88271273e-01  1.33491919e+00  8.07889749e-01 -3.99048758e-01\n",
      " -1.14960495e+00 -1.02057814e+00  2.06558442e-01 -6.39133340e-01\n",
      " -8.15845922e-01 -1.08981324e+00  1.46898403e-01  2.65837698e-01\n",
      " -7.23089677e-01  4.10198535e-01  1.11450876e+00 -1.19258378e+00\n",
      " -5.18913859e-01  1.52636464e-01 -2.20357914e+00 -5.90047405e-01\n",
      " -1.23717637e+00  3.84196710e-01 -2.30928688e-01  9.20348952e-01\n",
      "  2.68807353e-01 -5.81606421e-01 -7.77294939e-01  1.52514164e+00\n",
      " -1.67689370e+00  2.58865261e+00 -4.85591401e-01 -1.42973896e+00\n",
      "  6.20694083e-01 -3.29177989e-01  7.13443664e-01  1.40209981e+00\n",
      " -1.44094484e+00 -2.51196681e+00  1.32281217e+00 -5.36677941e-01\n",
      "  7.83625129e-02 -5.54277493e-01  6.89230686e-01 -1.20692523e+00\n",
      " -3.15292579e-01 -5.26460788e-01 -5.70294932e-01  5.03117757e-01\n",
      " -5.20884514e-01  1.70339966e+00 -2.13692904e-01  7.81850339e-02\n",
      "  1.64318087e-01  4.20749313e-01  1.82135821e-01  8.93463766e-01\n",
      "  1.19067904e+00 -2.01419313e+00  5.68120062e-01 -2.42799772e+00\n",
      "  9.74570935e-01 -3.43563066e-01  1.46384046e+00  7.75528057e-02\n",
      " -2.88132931e-01 -1.07547976e+00  6.79484340e-01 -8.88670635e-01\n",
      " -3.96506846e-01 -4.18877281e-01  2.20487063e-01 -5.83628206e-01\n",
      "  1.57718013e+00  2.09406948e-01 -1.95865683e+00  6.22136135e-01\n",
      "  1.51154142e-01 -2.45189525e-01 -3.85752341e-01 -1.12523294e+00\n",
      " -2.53697930e+00 -1.94818721e+00  1.28477520e+00 -2.28093448e-01\n",
      " -1.66910899e+00  1.21689233e+00 -3.41155704e-01  5.48692061e-01\n",
      " -4.33922422e-01 -5.63643949e-01  9.81771672e-02  2.40602292e-01\n",
      " -1.15842425e+00 -6.96012970e-02 -1.85832321e+00  8.49470692e-01\n",
      " -2.92578231e-01  9.42668036e-02  1.52215576e+00  4.78634811e-01\n",
      " -3.14355659e-01 -4.18804711e-01  1.73258008e+00  2.13337716e+00\n",
      "  7.70852847e-01 -1.15153690e+00 -6.35483153e-01 -1.12960173e+00\n",
      "  1.83019874e-01 -1.61103601e+00 -8.28020737e-01  1.57114936e+00\n",
      "  1.29010727e-02  7.55759274e-02  1.58083884e+00 -6.74770657e-01\n",
      " -3.48402016e-01 -1.41147575e+00  9.93309329e-02 -1.67027653e-01\n",
      " -9.47164420e-02  1.32296474e+00 -3.83874913e-01 -1.34226555e+00\n",
      "  2.81523665e-01  1.23938775e+00  1.26252648e-01 -1.04605090e+00\n",
      " -1.00433676e+00 -8.13690508e-03  1.01217602e+00  9.10838943e-01\n",
      "  5.40982606e-02 -1.14810892e+00  2.25780957e-01 -1.42394797e+00\n",
      " -2.38784956e+00  5.08829171e-02  7.84049989e-01 -1.76473523e-02\n",
      "  1.10461015e+00  4.12593021e-01 -7.06654340e-01 -4.74236915e-01\n",
      " -7.40881614e-01 -1.59846437e+00 -1.89346360e-01 -4.42357742e-01\n",
      " -6.91547731e-01  2.87537730e+00 -3.29589292e-01  6.44401718e-01\n",
      " -1.18974709e+00  5.45462439e-01 -3.86626437e-01 -1.53269570e+00\n",
      " -5.72812434e-01 -5.30571805e-02 -3.87763324e-01 -5.32540397e-01\n",
      "  4.79122615e-01 -1.41255001e-01 -4.88795931e-01  4.72530808e-01\n",
      "  9.86864227e-01  1.12197626e+00 -1.89458647e-01  9.89304204e-01\n",
      "  1.33043860e+00  5.21579137e-01 -3.46262797e-01 -1.02909022e+00\n",
      "  3.49426852e-01  1.14509463e+00 -2.85415199e-01 -6.04917288e-01\n",
      "  1.45992347e+00  3.90919167e-01  1.45185628e-02  1.14979907e+00\n",
      "  3.40021197e-01 -1.10302637e+00  8.32738350e-01  1.55047846e-01\n",
      "  1.53621368e+00  1.52157494e-01 -1.03288596e-01  2.23779679e-01\n",
      " -1.44609789e+00  1.06391951e+00  7.55404234e-01 -1.22692240e+00\n",
      "  8.62407888e-01  3.58061271e-01 -3.41484129e-01 -1.42860548e+00\n",
      " -8.46836728e-03 -1.03099556e+00  7.88355737e-01  9.95273386e-01\n",
      "  1.76085565e+00  1.12065466e+00 -7.03053925e-01 -8.47861929e-01\n",
      "  5.65714060e-01 -4.27870889e-02  1.08709384e+00 -7.09396175e-02\n",
      "  8.81640890e-01  1.60261979e-01  6.26688776e-01 -4.37368507e-01\n",
      " -3.56826684e-01 -1.53806926e+00 -1.97555135e-01  1.52281864e+00\n",
      " -7.39168569e-03  1.04267555e+00  5.66946854e-01  1.50785967e+00\n",
      " -9.70788881e-02  4.21758328e-01  4.92049854e-01  1.12838152e+00\n",
      "  2.88768310e-01  1.13141570e+00  1.86968720e+00 -8.87510303e-01\n",
      " -1.09110094e-01 -1.10531767e+00 -3.80665662e-01  7.82000909e-01\n",
      "  4.44728396e-01 -5.79739019e-01  6.51254333e-01  1.60691183e-01\n",
      " -4.70322600e-01 -2.28241251e+00 -6.39527868e-01 -1.40964315e-01\n",
      "  3.63897436e-01 -1.47185934e+00 -6.60669364e-01  3.77031054e-01\n",
      "  8.71603002e-01 -2.39761198e-01  9.54301251e-01  1.92112187e+00\n",
      " -1.16455556e+00 -4.16821168e-01  1.80938654e-02 -7.91239326e-01\n",
      "  3.67662157e-01 -8.45636469e-01  2.21131874e+00  6.87600266e-01\n",
      " -6.94961964e-01 -5.72210764e-01  4.34760890e-01  7.77917402e-01\n",
      " -3.82814502e-01  7.74281614e-02  1.39755494e-01  8.45220539e-01\n",
      "  4.71587405e-01  7.21053309e-01 -1.42754108e+00  1.17984617e+00\n",
      "  2.05141490e-01  2.49487666e-01 -1.40127100e+00  1.61384869e-01\n",
      "  1.51098813e-01  1.59615022e-01 -9.00064836e-01 -5.01862854e-01\n",
      "  9.67434259e-01 -9.31722568e-02  3.04021255e+00  1.58207808e+00\n",
      " -1.20741464e+00 -7.28115872e-01 -9.64307113e-01  7.65908465e-01\n",
      " -1.35051627e+00  1.75729354e-01 -5.79352137e-01 -1.35282266e-01\n",
      "  1.30643878e+00 -8.25809620e-01 -1.72168754e-02  9.50946921e-02\n",
      "  7.79030998e-01  8.38215195e-01  2.97576208e-01 -1.33397068e+00\n",
      " -9.36943510e-01 -1.12733404e+00 -3.49842891e-01 -1.61178257e+00\n",
      " -5.91268842e-01 -4.54343489e-01 -9.57424310e-01 -4.83202907e-01\n",
      " -4.81403282e-01  1.12260804e+00 -3.74014130e-01 -1.33219179e+00\n",
      "  3.73619374e-01  9.01883182e-01  1.03015997e+00 -6.17128889e-02\n",
      "  2.39260513e+00  1.18553298e-01 -7.15566152e-01 -7.43635397e-01\n",
      "  2.17789762e-01 -3.22457391e-01 -3.88120793e-01 -1.55479089e+00\n",
      " -3.54838081e-01 -1.05785053e+00  1.13218161e-01  4.62331835e-01\n",
      " -1.01678125e+00  2.43970466e-01 -8.50820626e-01  7.49991662e-02\n",
      "  3.30992478e-01  1.77826168e+00 -1.10684134e+00 -1.89635293e-01\n",
      " -7.90506003e-01 -2.89509058e+00  1.48235249e+00  6.10166706e-01\n",
      " -1.75893584e+00  7.47080215e-02 -6.23178186e-01  1.13870151e+00\n",
      " -9.51964530e-01  1.10472911e-01 -5.45547627e-02  1.70482052e+00\n",
      "  1.49609893e-01  7.84308866e-01  5.70932649e-01  1.88475500e+00\n",
      "  5.73142551e-01 -9.10434626e-01  6.01114271e-01  5.65912428e-01\n",
      " -5.85781702e-01 -5.46703742e-01  9.38510969e-01  1.22074252e+00\n",
      " -1.85913804e+00 -5.58139462e-01 -3.00983051e-01 -5.50429159e-01\n",
      " -1.51469501e+00  1.07516436e+00 -9.21010174e-01  2.67474079e+00]\n"
     ]
    }
   ],
   "source": [
    "mu, sigma = 0, 1\n",
    "s = np.random.normal(mu, sigma, 1000)\n",
    "print(s)"
   ]
  },
  {
   "cell_type": "code",
   "execution_count": 81,
   "metadata": {},
   "outputs": [
    {
     "name": "stderr",
     "output_type": "stream",
     "text": [
      "/home/stumble/anaconda3/lib/python3.6/site-packages/matplotlib/axes/_axes.py:6462: UserWarning: The 'normed' kwarg is deprecated, and has been replaced by the 'density' kwarg.\n",
      "  warnings.warn(\"The 'normed' kwarg is deprecated, and has been \"\n"
     ]
    },
    {
     "data": {
      "image/png": "[encoded data removed]",
      "text/plain": [
       "<Figure size 432x288 with 1 Axes>"
      ]
     },
     "metadata": {},
     "output_type": "display_data"
    }
   ],
   "source": [
    "# Create the bins and histogram\n",
    "count, bins, ignored = plt.hist(s, 20, normed=True)\n",
    "\n",
    "# Plot the distribution curve\n",
    "plt.plot(bins, 1/(sigma * np.sqrt(2 * np.pi)) *\n",
    "    np.exp( - (bins - mu)**2 / (2 * sigma**2) ),       linewidth=3, color='y')\n",
    "plt.show()"
   ]
  },
  {
   "cell_type": "markdown",
   "metadata": {},
   "source": [
    "## Question 11\n",
    "\n",
    "Generate binomial distribution data for fair coin flipping of size 100. Assume `0` for head and `1` for tail.\n",
    "\n",
    "[ **Hint:** For fair coin flip `p=0.5` ]"
   ]
  },
  {
   "cell_type": "markdown",
   "metadata": {},
   "source": [
    "#### Binomial Distribution"
   ]
  },
  {
   "cell_type": "markdown",
   "metadata": {},
   "source": [
    "It is defined by 2 parameters: the probability of success and the number of trails. It tells about how likely it is possible to get a given number of successes in n trails."
   ]
  },
  {
   "cell_type": "code",
   "execution_count": 83,
   "metadata": {},
   "outputs": [
    {
     "data": {
      "text/plain": [
       "array([7.88860905e-31, 7.88860905e-29, 3.90486148e-27, 1.27558808e-25,\n",
       "       3.09330110e-24, 5.93913812e-23, 9.40363535e-22, 1.26277389e-20,\n",
       "       1.46797465e-19, 1.50059631e-18, 1.36554264e-17, 1.11726216e-16,\n",
       "       8.28636101e-16, 5.60922899e-15, 3.48573516e-14, 1.99848816e-13,\n",
       "       1.06169683e-12, 5.24603142e-12, 2.41900338e-11, 1.04399093e-10,\n",
       "       4.22816327e-10, 1.61072886e-09, 5.78398092e-09, 1.96152396e-08,\n",
       "       6.29322272e-08, 1.91313971e-07, 5.51867223e-07, 1.51252498e-06,\n",
       "       3.94336870e-06, 9.79043264e-06, 2.31706906e-05, 5.23209142e-05,\n",
       "       1.12816971e-04, 2.32471335e-04, 4.58105277e-04, 8.63855666e-04,\n",
       "       1.55973940e-03, 2.69792760e-03, 4.47287998e-03, 7.11073227e-03,\n",
       "       1.08438667e-02, 1.58690732e-02, 2.22922695e-02, 3.00686426e-02,\n",
       "       3.89525598e-02, 4.84742966e-02, 5.79583981e-02, 6.65905000e-02,\n",
       "       7.35270104e-02, 7.80286641e-02, 7.95892374e-02, 7.80286641e-02,\n",
       "       7.35270104e-02, 6.65905000e-02, 5.79583981e-02, 4.84742966e-02,\n",
       "       3.89525598e-02, 3.00686426e-02, 2.22922695e-02, 1.58690732e-02,\n",
       "       1.08438667e-02, 7.11073227e-03, 4.47287998e-03, 2.69792760e-03,\n",
       "       1.55973940e-03, 8.63855666e-04, 4.58105277e-04, 2.32471335e-04,\n",
       "       1.12816971e-04, 5.23209142e-05, 2.31706906e-05, 9.79043264e-06,\n",
       "       3.94336870e-06, 1.51252498e-06, 5.51867223e-07, 1.91313971e-07,\n",
       "       6.29322272e-08, 1.96152396e-08, 5.78398092e-09, 1.61072886e-09,\n",
       "       4.22816327e-10, 1.04399093e-10, 2.41900338e-11, 5.24603142e-12,\n",
       "       1.06169683e-12, 1.99848816e-13, 3.48573516e-14, 5.60922899e-15,\n",
       "       8.28636101e-16, 1.11726216e-16, 1.36554264e-17, 1.50059631e-18,\n",
       "       1.46797465e-19, 1.26277389e-20, 9.40363535e-22, 5.93913812e-23,\n",
       "       3.09330110e-24, 1.27558808e-25, 3.90486148e-27, 7.88860905e-29,\n",
       "       7.88860905e-31])"
      ]
     },
     "execution_count": 83,
     "metadata": {},
     "output_type": "execute_result"
    }
   ],
   "source": [
    "from scipy.stats import binom\n",
    "n=100\n",
    "p=0.5\n",
    "k=np.arange(0,101)\n",
    "binomial = binom.pmf(k,n,p)\n",
    "binomial"
   ]
  },
  {
   "cell_type": "markdown",
   "metadata": {},
   "source": [
    "#### Visualizing Poisson Distribution"
   ]
  },
  {
   "cell_type": "markdown",
   "metadata": {},
   "source": [
    "It models the probability of seeing certain number of successes within a time interval."
   ]
  },
  {
   "cell_type": "code",
   "execution_count": 88,
   "metadata": {},
   "outputs": [
    {
     "data": {
      "image/png": "[encoded data removed]",
      "text/plain": [
       "<Figure size 432x288 with 1 Axes>"
      ]
     },
     "metadata": {},
     "output_type": "display_data"
    }
   ],
   "source": [
    "from scipy import stats\n",
    "poisson_data = stats.poisson.rvs(size=100,mu=10)\n",
    "\n",
    "pd.DataFrame(poisson_data).hist()\n",
    "\n",
    "plt.show()"
   ]
  },
  {
   "cell_type": "code",
   "execution_count": null,
   "metadata": {},
   "outputs": [],
   "source": []
  }
 ],
 "metadata": {
  "kernelspec": {
   "display_name": "Python 3",
   "language": "python",
   "name": "python3"
  },
  "language_info": {
   "codemirror_mode": {
    "name": "ipython",
    "version": 3
   },
   "file_extension": ".py",
   "mimetype": "text/x-python",
   "name": "python",
   "nbconvert_exporter": "python",
   "pygments_lexer": "ipython3",
   "version": "3.6.5"
  }
 },
 "nbformat": 4,
 "nbformat_minor": 2
}
