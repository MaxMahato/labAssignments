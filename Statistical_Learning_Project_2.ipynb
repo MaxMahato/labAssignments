{
 "cells": [
  {
   "cell_type": "code",
   "execution_count": 63,
   "metadata": {},
   "outputs": [],
   "source": [
    "import pandas as pd\n",
    "import numpy as np\n",
    "from scipy.stats import ttest_1samp, ttest_ind, mannwhitneyu, levene, shapiro,bartlett, wilcoxon\n",
    "from statsmodels.stats.power import ttest_power"
   ]
  },
  {
   "cell_type": "code",
   "execution_count": 64,
   "metadata": {},
   "outputs": [
    {
     "data": {
      "text/html": [
       "<div>\n",
       "<style scoped>\n",
       "    .dataframe tbody tr th:only-of-type {\n",
       "        vertical-align: middle;\n",
       "    }\n",
       "\n",
       "    .dataframe tbody tr th {\n",
       "        vertical-align: top;\n",
       "    }\n",
       "\n",
       "    .dataframe thead th {\n",
       "        text-align: right;\n",
       "    }\n",
       "</style>\n",
       "<table border=\"1\" class=\"dataframe\">\n",
       "  <thead>\n",
       "    <tr style=\"text-align: right;\">\n",
       "      <th></th>\n",
       "      <th>SALESPERSON</th>\n",
       "      <th>Old Scheme</th>\n",
       "      <th>New Scheme</th>\n",
       "    </tr>\n",
       "  </thead>\n",
       "  <tbody>\n",
       "    <tr>\n",
       "      <th>0</th>\n",
       "      <td>1</td>\n",
       "      <td>57</td>\n",
       "      <td>62</td>\n",
       "    </tr>\n",
       "    <tr>\n",
       "      <th>1</th>\n",
       "      <td>2</td>\n",
       "      <td>103</td>\n",
       "      <td>122</td>\n",
       "    </tr>\n",
       "    <tr>\n",
       "      <th>2</th>\n",
       "      <td>3</td>\n",
       "      <td>59</td>\n",
       "      <td>54</td>\n",
       "    </tr>\n",
       "    <tr>\n",
       "      <th>3</th>\n",
       "      <td>4</td>\n",
       "      <td>75</td>\n",
       "      <td>82</td>\n",
       "    </tr>\n",
       "    <tr>\n",
       "      <th>4</th>\n",
       "      <td>5</td>\n",
       "      <td>84</td>\n",
       "      <td>84</td>\n",
       "    </tr>\n",
       "  </tbody>\n",
       "</table>\n",
       "</div>"
      ],
      "text/plain": [
       "   SALESPERSON  Old Scheme  New Scheme\n",
       "0            1          57          62\n",
       "1            2         103         122\n",
       "2            3          59          54\n",
       "3            4          75          82\n",
       "4            5          84          84"
      ]
     },
     "execution_count": 64,
     "metadata": {},
     "output_type": "execute_result"
    }
   ],
   "source": [
    "column_nm=['SALESPERSON','Old Scheme','New Scheme']\n",
    "data=[[1,57,62],[2,103,122],[3,59,54],[4,75,82],[5,84,84],[6,73,86],[7,35,32],[8,110,104],[9,44,38],[10,82,107],[11,67,84],[12,64,85],[13,78,99],[14,53,39],[15,41,34],[16,39,58],[17,80,73],[18,87,53],[19,73,66],[20,65,78],[21,28,41],[22,62,71],[23,49,38],[24,84,95],[25,63,81],[26,77,58],[27,67,75],[28,101,94],[29,91,100],[30,50,68]]\n",
    "df = pd.DataFrame(data,columns=column_nm)\n",
    "df.head(5)"
   ]
  },
  {
   "cell_type": "code",
   "execution_count": 65,
   "metadata": {},
   "outputs": [
    {
     "data": {
      "text/html": [
       "<div>\n",
       "<style scoped>\n",
       "    .dataframe tbody tr th:only-of-type {\n",
       "        vertical-align: middle;\n",
       "    }\n",
       "\n",
       "    .dataframe tbody tr th {\n",
       "        vertical-align: top;\n",
       "    }\n",
       "\n",
       "    .dataframe thead th {\n",
       "        text-align: right;\n",
       "    }\n",
       "</style>\n",
       "<table border=\"1\" class=\"dataframe\">\n",
       "  <thead>\n",
       "    <tr style=\"text-align: right;\">\n",
       "      <th></th>\n",
       "      <th>Old Scheme</th>\n",
       "      <th>New Scheme</th>\n",
       "    </tr>\n",
       "    <tr>\n",
       "      <th>SALESPERSON</th>\n",
       "      <th></th>\n",
       "      <th></th>\n",
       "    </tr>\n",
       "  </thead>\n",
       "  <tbody>\n",
       "    <tr>\n",
       "      <th>1</th>\n",
       "      <td>57</td>\n",
       "      <td>62</td>\n",
       "    </tr>\n",
       "    <tr>\n",
       "      <th>2</th>\n",
       "      <td>103</td>\n",
       "      <td>122</td>\n",
       "    </tr>\n",
       "    <tr>\n",
       "      <th>3</th>\n",
       "      <td>59</td>\n",
       "      <td>54</td>\n",
       "    </tr>\n",
       "    <tr>\n",
       "      <th>4</th>\n",
       "      <td>75</td>\n",
       "      <td>82</td>\n",
       "    </tr>\n",
       "    <tr>\n",
       "      <th>5</th>\n",
       "      <td>84</td>\n",
       "      <td>84</td>\n",
       "    </tr>\n",
       "  </tbody>\n",
       "</table>\n",
       "</div>"
      ],
      "text/plain": [
       "             Old Scheme  New Scheme\n",
       "SALESPERSON                        \n",
       "1                    57          62\n",
       "2                   103         122\n",
       "3                    59          54\n",
       "4                    75          82\n",
       "5                    84          84"
      ]
     },
     "execution_count": 65,
     "metadata": {},
     "output_type": "execute_result"
    }
   ],
   "source": [
    "df = df.set_index(['SALESPERSON'])\n",
    "df.head(5)"
   ]
  },
  {
   "cell_type": "markdown",
   "metadata": {},
   "source": [
    "## Find the mean of old scheme and new scheme column"
   ]
  },
  {
   "cell_type": "code",
   "execution_count": 66,
   "metadata": {},
   "outputs": [
    {
     "data": {
      "text/html": [
       "<div>\n",
       "<style scoped>\n",
       "    .dataframe tbody tr th:only-of-type {\n",
       "        vertical-align: middle;\n",
       "    }\n",
       "\n",
       "    .dataframe tbody tr th {\n",
       "        vertical-align: top;\n",
       "    }\n",
       "\n",
       "    .dataframe thead th {\n",
       "        text-align: right;\n",
       "    }\n",
       "</style>\n",
       "<table border=\"1\" class=\"dataframe\">\n",
       "  <thead>\n",
       "    <tr style=\"text-align: right;\">\n",
       "      <th></th>\n",
       "      <th>Old Scheme</th>\n",
       "      <th>New Scheme</th>\n",
       "    </tr>\n",
       "  </thead>\n",
       "  <tbody>\n",
       "    <tr>\n",
       "      <th>count</th>\n",
       "      <td>30.000000</td>\n",
       "      <td>30.000000</td>\n",
       "    </tr>\n",
       "    <tr>\n",
       "      <th>mean</th>\n",
       "      <td>68.033333</td>\n",
       "      <td>72.033333</td>\n",
       "    </tr>\n",
       "    <tr>\n",
       "      <th>std</th>\n",
       "      <td>20.455980</td>\n",
       "      <td>24.062395</td>\n",
       "    </tr>\n",
       "    <tr>\n",
       "      <th>min</th>\n",
       "      <td>28.000000</td>\n",
       "      <td>32.000000</td>\n",
       "    </tr>\n",
       "    <tr>\n",
       "      <th>25%</th>\n",
       "      <td>54.000000</td>\n",
       "      <td>55.000000</td>\n",
       "    </tr>\n",
       "    <tr>\n",
       "      <th>50%</th>\n",
       "      <td>67.000000</td>\n",
       "      <td>74.000000</td>\n",
       "    </tr>\n",
       "    <tr>\n",
       "      <th>75%</th>\n",
       "      <td>81.500000</td>\n",
       "      <td>85.750000</td>\n",
       "    </tr>\n",
       "    <tr>\n",
       "      <th>max</th>\n",
       "      <td>110.000000</td>\n",
       "      <td>122.000000</td>\n",
       "    </tr>\n",
       "  </tbody>\n",
       "</table>\n",
       "</div>"
      ],
      "text/plain": [
       "       Old Scheme  New Scheme\n",
       "count   30.000000   30.000000\n",
       "mean    68.033333   72.033333\n",
       "std     20.455980   24.062395\n",
       "min     28.000000   32.000000\n",
       "25%     54.000000   55.000000\n",
       "50%     67.000000   74.000000\n",
       "75%     81.500000   85.750000\n",
       "max    110.000000  122.000000"
      ]
     },
     "execution_count": 66,
     "metadata": {},
     "output_type": "execute_result"
    }
   ],
   "source": [
    "df.describe()"
   ]
  },
  {
   "cell_type": "code",
   "execution_count": 67,
   "metadata": {},
   "outputs": [],
   "source": [
    "# Seperating the data into 2 groups\n",
    "oldScheme = df.iloc[:,0:1].values\n",
    "newScheme = df.iloc[:,1:2].values"
   ]
  },
  {
   "cell_type": "code",
   "execution_count": 68,
   "metadata": {},
   "outputs": [
    {
     "data": {
      "text/plain": [
       "(0.9687566161155701, 0.5057379007339478)"
      ]
     },
     "execution_count": 68,
     "metadata": {},
     "output_type": "execute_result"
    }
   ],
   "source": [
    "# Shapiro test will tell us whether the data is normal or not.\n",
    "#Null hypothesis: Data is normal.\n",
    "shapiro(newScheme)\n",
    "#Here the p value is 0.5057 which is greater than 0.05 and hence we fail to reject null hypothesis, i.e data is normal."
   ]
  },
  {
   "cell_type": "code",
   "execution_count": 69,
   "metadata": {},
   "outputs": [
    {
     "data": {
      "text/plain": [
       "(0.9885103702545166, 0.9813674092292786)"
      ]
     },
     "execution_count": 69,
     "metadata": {},
     "output_type": "execute_result"
    }
   ],
   "source": [
    "shapiro(oldScheme)\n",
    "#Here the p value is 0.9813 which is greater than 0.05 and hence we fail to reject null hypothesis, i.e data is normal."
   ]
  },
  {
   "cell_type": "code",
   "execution_count": 70,
   "metadata": {},
   "outputs": [
    {
     "data": {
      "text/plain": [
       "LeveneResult(statistic=array([1.06306154]), pvalue=array([0.30679836]))"
      ]
     },
     "execution_count": 70,
     "metadata": {},
     "output_type": "execute_result"
    }
   ],
   "source": [
    "# For checking equality of variance between groups\n",
    "# Null Hypothesis: Variances are equal\n",
    "levene(oldScheme,newScheme)\n",
    "#Here the p value is 0.3067 which is greater than 0.05 and hence we fail to reject null hypothesis, i.e variance square of group 1 is equal to variance square of 2nd group."
   ]
  },
  {
   "cell_type": "code",
   "execution_count": 71,
   "metadata": {},
   "outputs": [
    {
     "name": "stdout",
     "output_type": "stream",
     "text": [
      "[0.69370676] [0.49063516]\n"
     ]
    }
   ],
   "source": [
    "# two-sample t-test\n",
    "# null hypothesis: the two groups have the same mean\n",
    "t_statistic, p_value = ttest_ind(newScheme, oldScheme)\n",
    "print(t_statistic, p_value)"
   ]
  },
  {
   "cell_type": "code",
   "execution_count": 72,
   "metadata": {},
   "outputs": [
    {
     "data": {
      "text/plain": [
       "56.53522679695983"
      ]
     },
     "execution_count": 72,
     "metadata": {},
     "output_type": "execute_result"
    }
   ],
   "source": [
    "# Computing degrees of freedom\n",
    "step1 = (((20.455980 * 20.455980)/30)+((24.062395*24.062395)/30))\n",
    "step1 = step1*step1\n",
    "step2 = ((20.455980 * 20.455980)/30)\n",
    "step2 = step2*step2\n",
    "step2 = step2/29\n",
    "step3 = ((24.062395*24.062395)/30)\n",
    "step3 = step3*step3\n",
    "step3 = step3/29\n",
    "df = step1/(step2+step3)\n",
    "df"
   ]
  },
  {
   "cell_type": "code",
   "execution_count": 73,
   "metadata": {},
   "outputs": [
    {
     "name": "stdout",
     "output_type": "stream",
     "text": [
      "22.332106605696932\n",
      "0.6937067630188398\n"
     ]
    }
   ],
   "source": [
    "poolVariance = ((30-1)*(20.455980*20.455980)+(30-1)*(24.062395*24.062395))/(30+30-2)\n",
    "poolVariance = np.sqrt(poolVariance)\n",
    "tstat = (72.033333-68.033333)/(poolVariance*(np.sqrt((1/30)+(1/30))))\n",
    "print(poolVariance)\n",
    "print(tstat)"
   ]
  },
  {
   "cell_type": "markdown",
   "metadata": {},
   "source": [
    "##### Confirming t-static value is same using formula and library function.\n",
    "##### Taking Degrees of freedom: 57 (Rounding 56.5352), signiicance level: 0.05; critical value of t = 2.0025\n",
    "##### We determined critical value using calculator : http://www.meracalculator.com/math/t-distribution-critical-value-table.php \n",
    "##### As t-static value (0.6937) lies in the range of -2.0025 to +2.0025 and p value (0.4906) which is >0.05 we fail to reject null hypothesis."
   ]
  },
  {
   "cell_type": "markdown",
   "metadata": {},
   "source": [
    "## As p-value is >0.05 we fail to reject the null hypothesis, i.e there is no significant difference in the means."
   ]
  },
  {
   "cell_type": "markdown",
   "metadata": {},
   "source": [
    "### Suppose it has been calculated that in order for Titan to break even, the average output must increase by £5000 in the scheme compared to the old scheme. If this figure is alternative hypothesis, what is:\n",
    "The probability of a type 1 error?\n",
    "What is the p- value of the hypothesis test if we test for a difference of $5000?\n",
    "Power of the test?\n"
   ]
  },
  {
   "cell_type": "code",
   "execution_count": 74,
   "metadata": {},
   "outputs": [
    {
     "name": "stdout",
     "output_type": "stream",
     "text": [
      "5.7661251313061905\n",
      "-0.17342669075470996\n"
     ]
    }
   ],
   "source": [
    "# Null hypothesis: The mean difference is greater than 5 (in muliples of 1000 = 5000 )\n",
    "# Alternate hypothesis: The mean difference is less than 5 (in multiples of 1000 = 5000)\n",
    "\n",
    "# Standard Error : SE = sqrt[((s1*s1)/n1) + ((s2*s2)/n2)]\n",
    "# Degrees of freedom (DF) ~ 57\n",
    "# t_statistic = [ (x1 - x2) - d ] / SE\n",
    "# Here s1 is the standard deviation of old scheme, s2 is the standard deviation of new scheme,\n",
    "# n1 is the sample size of old scheme, n2 is the sample size of new scheme, \n",
    "# x1 is the mean of old scheme, x2 is the mean of new scheme,\n",
    "# d is the hypothesized difference between population means, and SE is the standard error.\n",
    "\n",
    "se = np.sqrt(((20.455980 * 20.455980)/30)+((24.062395*24.062395)/30))\n",
    "tstat = (((72.033333-68.033333)-5)/se)\n",
    "\n",
    "print(se)\n",
    "print(tstat)"
   ]
  },
  {
   "cell_type": "markdown",
   "metadata": {},
   "source": [
    "##### Logic of the analysis: Given the alternative hypothesis (μ1 - μ2 < 5), we want to know whether the observed \n",
    "##### difference in sample means is small enough (i.e., sufficiently less than 5) to cause us to reject the null hypothesis."
   ]
  },
  {
   "cell_type": "markdown",
   "metadata": {},
   "source": [
    "##### The observed difference in sample means (5) produced a t statistic of -0.1734. \n",
    "##### We use the t Distribution Calculator: https://stattrek.com/online-calculator/t-distribution.aspx\n",
    "##### To find P(t < -0.1734) = 0.4315\n",
    "#### Value of p = 0.4315"
   ]
  },
  {
   "cell_type": "markdown",
   "metadata": {},
   "source": [
    "### This means we would expect to find an observed difference in sample means of 5 or less in 43% of our samples even if the true difference were actually 5. Therefore, the P-value in this analysis is 0.43."
   ]
  },
  {
   "cell_type": "markdown",
   "metadata": {},
   "source": [
    "### Since the P-value (0.43) is greater than the significance level (0.05), we cannot reject the null hypothesis."
   ]
  },
  {
   "cell_type": "code",
   "execution_count": 75,
   "metadata": {},
   "outputs": [
    {
     "name": "stdout",
     "output_type": "stream",
     "text": [
      "0.12909555513169643\n",
      "0.16610169779030565\n"
     ]
    }
   ],
   "source": [
    "# Caculating power of test\n",
    "x = (np.mean(newScheme) - np.mean(oldScheme)) / np.sqrt(((30-1)*np.var(oldScheme)+(30-1)*np.var(newScheme)) / 30+30-2)\n",
    "print (x)\n",
    "print(ttest_power(x, nobs=60, alpha=0.05, alternative='two-sided'))"
   ]
  },
  {
   "cell_type": "markdown",
   "metadata": {},
   "source": [
    "#### Power of test: 0.3622"
   ]
  },
  {
   "cell_type": "markdown",
   "metadata": {},
   "source": [
    "### Alternative approach: Computing t statistic value keeping mean1 = 68.033 and mean=72.0333\n"
   ]
  },
  {
   "cell_type": "code",
   "execution_count": 76,
   "metadata": {},
   "outputs": [
    {
     "name": "stdout",
     "output_type": "stream",
     "text": [
      "22.332106605696932\n",
      "-1.5608402167923896\n"
     ]
    }
   ],
   "source": [
    "#Assuming mean value is differed by 5 (Multiples of 1000=5000)\n",
    "poolVariance = ((30-1)*(20.455980*20.455980)+(30-1)*(24.062395*24.062395))/(30+30-2)\n",
    "poolVariance = np.sqrt(poolVariance)\n",
    "tstat = ((68.033333-72.033333)-5)/(poolVariance*(np.sqrt((1/30)+(1/30))))\n",
    "print(poolVariance)\n",
    "print(tstat)\n",
    "#poolVariance = ((30-1)*np.var(oldScheme)+(30-1)*np.var(newScheme))/(30+30-2)\n",
    "#t_stat =  5/np.sqrt(poolVariance)\n",
    "#t_stat"
   ]
  },
  {
   "cell_type": "code",
   "execution_count": 77,
   "metadata": {},
   "outputs": [
    {
     "name": "stdout",
     "output_type": "stream",
     "text": [
      "5.7661251313061905\n",
      "0.17342669075470996\n"
     ]
    }
   ],
   "source": [
    "se = np.sqrt(((20.455980 * 20.455980)/30)+((24.062395*24.062395)/30))\n",
    "tstat = (((68.033333-72.033333)+5)/se)\n",
    "\n",
    "print(se)\n",
    "print(tstat)"
   ]
  },
  {
   "cell_type": "markdown",
   "metadata": {},
   "source": [
    "##### The observed difference in sample means (5) produced a t statistic of 0.1734. \n",
    "##### We use the t Distribution Calculator: https://stattrek.com/online-calculator/t-distribution.aspx\n",
    "##### To find P(t < 0.1734) = 0.5685 \n",
    "#### Value of p = 0.5685"
   ]
  },
  {
   "cell_type": "markdown",
   "metadata": {},
   "source": [
    "### This means we would expect to find an observed difference in sample means of 5 or greater in ~57 % of our samples if the true difference were actually 5. Therefore, the P-value in this analysis is 0.5685."
   ]
  },
  {
   "cell_type": "code",
   "execution_count": null,
   "metadata": {},
   "outputs": [],
   "source": []
  }
 ],
 "metadata": {
  "kernelspec": {
   "display_name": "Python 3",
   "language": "python",
   "name": "python3"
  },
  "language_info": {
   "codemirror_mode": {
    "name": "ipython",
    "version": 3
   },
   "file_extension": ".py",
   "mimetype": "text/x-python",
   "name": "python",
   "nbconvert_exporter": "python",
   "pygments_lexer": "ipython3",
   "version": "3.6.5"
  }
 },
 "nbformat": 4,
 "nbformat_minor": 2
}
